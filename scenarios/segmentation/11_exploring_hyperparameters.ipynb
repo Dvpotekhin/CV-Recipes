{
 "cells": [
  {
   "cell_type": "markdown",
   "metadata": {},
   "source": [
    "<i>Copyright (c) Microsoft Corporation. All rights reserved.</i>\n",
    "\n",
    "<i>Licensed under the MIT License.</i>"
   ]
  },
  {
   "cell_type": "markdown",
   "metadata": {},
   "source": [
    "# Testing different Hyperparameters and Benchmarking"
   ]
  },
  {
   "cell_type": "markdown",
   "metadata": {},
   "source": [
    "In this notebook, we'll cover how to test different hyperparameters for a particular dataset and how to benchmark different parameters across a group of datasets. Note that this re-uses functionality which was already introduced and described in the [classification/notebooks/11_exploring_hyperparameters.ipynb](../../classification/notebooks/11_exploring_hyperparameters.ipynb) notebook. **Please refer to that notebook for all explanations, which this notebook will not repeat.**\n",
    "\n",
    "For an example of how to scale up with remote GPU clusters on Azure Machine Learning, please view [24_exploring_hyperparameters_on_azureml.ipynb](../../classification/notebooks/24_exploring_hyperparameters_on_azureml.ipynb)."
   ]
  },
  {
   "cell_type": "markdown",
   "metadata": {},
   "source": [
    "## Testing hyperparameters"
   ]
  },
  {
   "cell_type": "markdown",
   "metadata": {},
   "source": [
    "Ensure edits to libraries are loaded and plotting is shown in the notebook."
   ]
  },
  {
   "cell_type": "code",
   "execution_count": 1,
   "metadata": {},
   "outputs": [],
   "source": [
    "%reload_ext autoreload\n",
    "%autoreload 2\n",
    "%matplotlib inline"
   ]
  },
  {
   "cell_type": "markdown",
   "metadata": {},
   "source": [
    "We start by importing the utilities we need."
   ]
  },
  {
   "cell_type": "code",
   "execution_count": 2,
   "metadata": {},
   "outputs": [
    {
     "data": {
      "text/plain": [
       "'1.0.57'"
      ]
     },
     "execution_count": 2,
     "metadata": {},
     "output_type": "execute_result"
    }
   ],
   "source": [
    "import sys\n",
    "import numpy as np\n",
    "import scrapbook as sb\n",
    "import torch\n",
    "import fastai\n",
    "from fastai.vision import *\n",
    "\n",
    "sys.path.append(\"../../\")\n",
    "from utils_cv.common.data import unzip_url\n",
    "from utils_cv.classification.parameter_sweeper import ParameterSweeper, clean_sweeper_df, plot_sweeper_df\n",
    "from utils_cv.segmentation.data import Urls\n",
    "\n",
    "fastai.__version__"
   ]
  },
  {
   "cell_type": "markdown",
   "metadata": {},
   "source": [
    "Define the datasets and parameters we will use in this notebook. To run this notebook quickly, we are setting the image resolution and the number of epochs to be low. "
   ]
  },
  {
   "cell_type": "code",
   "execution_count": 3,
   "metadata": {
    "tags": [
     "parameters"
    ]
   },
   "outputs": [],
   "source": [
    "DATA_PATHS = [unzip_url(Urls.fridge_objects_path, exist_ok=True)]\n",
    "REPS = 3\n",
    "LEARNING_RATES = [1e-3, 1e-4, 1e-5]\n",
    "IM_SIZES = [50, 100]   #recommended to try: [300, 500]\n",
    "EPOCHS = [2,5]         #recommended to try: [10, 20]\n",
    "DROPOUTS = [0]"
   ]
  },
  {
   "cell_type": "markdown",
   "metadata": {},
   "source": [
    "### Model training and evaluation"
   ]
  },
  {
   "cell_type": "markdown",
   "metadata": {},
   "source": [
    "We start by creating the Parameter Sweeper object. Before we start testing, it's a good idea to see what the default parameters are. We can use a the property `parameters` to easily see those default values."
   ]
  },
  {
   "cell_type": "code",
   "execution_count": 4,
   "metadata": {},
   "outputs": [
    {
     "data": {
      "text/plain": [
       "OrderedDict([('learning_rate', [0.0001]),\n",
       "             ('epochs', [15]),\n",
       "             ('batch_size', [16]),\n",
       "             ('im_size', [299]),\n",
       "             ('architecture',\n",
       "              [<Architecture.resnet18: functools.partial(<function resnet18 at 0x0000020D0486F8B8>)>]),\n",
       "             ('transform', [True]),\n",
       "             ('dropout', [0.5]),\n",
       "             ('weight_decay', [0.01]),\n",
       "             ('training_schedule',\n",
       "              [<TrainingSchedule.head_first_then_body: 'head_first_then_body'>]),\n",
       "             ('discriminative_lr', [False]),\n",
       "             ('one_cycle_policy', [True])])"
      ]
     },
     "execution_count": 4,
     "metadata": {},
     "output_type": "execute_result"
    }
   ],
   "source": [
    "sweeper = ParameterSweeper(metric_name=\"ratio_correct\")\n",
    "sweeper.parameters"
   ]
  },
  {
   "cell_type": "markdown",
   "metadata": {},
   "source": [
    "Now that we know the defaults, we can pass it the parameters we want to test, and run the parameter sweep."
   ]
  },
  {
   "cell_type": "code",
   "execution_count": null,
   "metadata": {},
   "outputs": [],
   "source": [
    "sweeper.update_parameters(learning_rate=LEARNING_RATES, im_size=IM_SIZES, epochs=EPOCHS, dropout=DROPOUTS)\n",
    "df = sweeper.run(datasets=DATA_PATHS, reps=REPS, learner_type = \"unet\")"
   ]
  },
  {
   "cell_type": "code",
   "execution_count": 12,
   "metadata": {},
   "outputs": [
    {
     "data": {
      "text/html": [
       "<div>\n",
       "<style scoped>\n",
       "    .dataframe tbody tr th:only-of-type {\n",
       "        vertical-align: middle;\n",
       "    }\n",
       "\n",
       "    .dataframe tbody tr th {\n",
       "        vertical-align: top;\n",
       "    }\n",
       "\n",
       "    .dataframe thead th {\n",
       "        text-align: right;\n",
       "    }\n",
       "</style>\n",
       "<table border=\"1\" class=\"dataframe\">\n",
       "  <thead>\n",
       "    <tr style=\"text-align: right;\">\n",
       "      <th></th>\n",
       "      <th></th>\n",
       "      <th></th>\n",
       "      <th>duration</th>\n",
       "      <th>ratio_correct</th>\n",
       "    </tr>\n",
       "  </thead>\n",
       "  <tbody>\n",
       "    <tr>\n",
       "      <th rowspan=\"12\" valign=\"top\">0</th>\n",
       "      <th>P: [learning_rate: 0.001] [epochs: 2] [im_size: 50]</th>\n",
       "      <th>segFridgeObjects</th>\n",
       "      <td>14.420340</td>\n",
       "      <td>0.755381</td>\n",
       "    </tr>\n",
       "    <tr>\n",
       "      <th>P: [learning_rate: 0.001] [epochs: 2] [im_size: 100]</th>\n",
       "      <th>segFridgeObjects</th>\n",
       "      <td>16.193594</td>\n",
       "      <td>0.762260</td>\n",
       "    </tr>\n",
       "    <tr>\n",
       "      <th>P: [learning_rate: 0.001] [epochs: 5] [im_size: 50]</th>\n",
       "      <th>segFridgeObjects</th>\n",
       "      <td>15.623636</td>\n",
       "      <td>0.872600</td>\n",
       "    </tr>\n",
       "    <tr>\n",
       "      <th>P: [learning_rate: 0.001] [epochs: 5] [im_size: 100]</th>\n",
       "      <th>segFridgeObjects</th>\n",
       "      <td>22.343675</td>\n",
       "      <td>0.887317</td>\n",
       "    </tr>\n",
       "    <tr>\n",
       "      <th>P: [learning_rate: 0.0001] [epochs: 2] [im_size: 50]</th>\n",
       "      <th>segFridgeObjects</th>\n",
       "      <td>6.899916</td>\n",
       "      <td>0.751771</td>\n",
       "    </tr>\n",
       "    <tr>\n",
       "      <th>P: [learning_rate: 0.0001] [epochs: 2] [im_size: 100]</th>\n",
       "      <th>segFridgeObjects</th>\n",
       "      <td>9.796095</td>\n",
       "      <td>0.710405</td>\n",
       "    </tr>\n",
       "    <tr>\n",
       "      <th>P: [learning_rate: 0.0001] [epochs: 5] [im_size: 50]</th>\n",
       "      <th>segFridgeObjects</th>\n",
       "      <td>15.502939</td>\n",
       "      <td>0.795143</td>\n",
       "    </tr>\n",
       "    <tr>\n",
       "      <th>P: [learning_rate: 0.0001] [epochs: 5] [im_size: 100]</th>\n",
       "      <th>segFridgeObjects</th>\n",
       "      <td>22.566672</td>\n",
       "      <td>0.857043</td>\n",
       "    </tr>\n",
       "    <tr>\n",
       "      <th>P: [learning_rate: 1e-05] [epochs: 2] [im_size: 50]</th>\n",
       "      <th>segFridgeObjects</th>\n",
       "      <td>6.870908</td>\n",
       "      <td>0.617076</td>\n",
       "    </tr>\n",
       "    <tr>\n",
       "      <th>P: [learning_rate: 1e-05] [epochs: 2] [im_size: 100]</th>\n",
       "      <th>segFridgeObjects</th>\n",
       "      <td>9.799436</td>\n",
       "      <td>0.702471</td>\n",
       "    </tr>\n",
       "    <tr>\n",
       "      <th>P: [learning_rate: 1e-05] [epochs: 5] [im_size: 50]</th>\n",
       "      <th>segFridgeObjects</th>\n",
       "      <td>15.424780</td>\n",
       "      <td>0.068190</td>\n",
       "    </tr>\n",
       "    <tr>\n",
       "      <th>P: [learning_rate: 1e-05] [epochs: 5] [im_size: 100]</th>\n",
       "      <th>segFridgeObjects</th>\n",
       "      <td>22.426835</td>\n",
       "      <td>0.666171</td>\n",
       "    </tr>\n",
       "    <tr>\n",
       "      <th rowspan=\"12\" valign=\"top\">1</th>\n",
       "      <th>P: [learning_rate: 0.001] [epochs: 2] [im_size: 50]</th>\n",
       "      <th>segFridgeObjects</th>\n",
       "      <td>6.887019</td>\n",
       "      <td>0.765638</td>\n",
       "    </tr>\n",
       "    <tr>\n",
       "      <th>P: [learning_rate: 0.001] [epochs: 2] [im_size: 100]</th>\n",
       "      <th>segFridgeObjects</th>\n",
       "      <td>9.731006</td>\n",
       "      <td>0.764333</td>\n",
       "    </tr>\n",
       "    <tr>\n",
       "      <th>P: [learning_rate: 0.001] [epochs: 5] [im_size: 50]</th>\n",
       "      <th>segFridgeObjects</th>\n",
       "      <td>15.412147</td>\n",
       "      <td>0.872752</td>\n",
       "    </tr>\n",
       "    <tr>\n",
       "      <th>P: [learning_rate: 0.001] [epochs: 5] [im_size: 100]</th>\n",
       "      <th>segFridgeObjects</th>\n",
       "      <td>22.588943</td>\n",
       "      <td>0.871452</td>\n",
       "    </tr>\n",
       "    <tr>\n",
       "      <th>P: [learning_rate: 0.0001] [epochs: 2] [im_size: 50]</th>\n",
       "      <th>segFridgeObjects</th>\n",
       "      <td>6.957915</td>\n",
       "      <td>0.796476</td>\n",
       "    </tr>\n",
       "    <tr>\n",
       "      <th>P: [learning_rate: 0.0001] [epochs: 2] [im_size: 100]</th>\n",
       "      <th>segFridgeObjects</th>\n",
       "      <td>9.775615</td>\n",
       "      <td>0.758117</td>\n",
       "    </tr>\n",
       "    <tr>\n",
       "      <th>P: [learning_rate: 0.0001] [epochs: 5] [im_size: 50]</th>\n",
       "      <th>segFridgeObjects</th>\n",
       "      <td>15.372692</td>\n",
       "      <td>0.803791</td>\n",
       "    </tr>\n",
       "    <tr>\n",
       "      <th>P: [learning_rate: 0.0001] [epochs: 5] [im_size: 100]</th>\n",
       "      <th>segFridgeObjects</th>\n",
       "      <td>22.460565</td>\n",
       "      <td>0.828309</td>\n",
       "    </tr>\n",
       "    <tr>\n",
       "      <th>P: [learning_rate: 1e-05] [epochs: 2] [im_size: 50]</th>\n",
       "      <th>segFridgeObjects</th>\n",
       "      <td>6.891902</td>\n",
       "      <td>0.130438</td>\n",
       "    </tr>\n",
       "    <tr>\n",
       "      <th>P: [learning_rate: 1e-05] [epochs: 2] [im_size: 100]</th>\n",
       "      <th>segFridgeObjects</th>\n",
       "      <td>9.807517</td>\n",
       "      <td>0.062869</td>\n",
       "    </tr>\n",
       "    <tr>\n",
       "      <th>P: [learning_rate: 1e-05] [epochs: 5] [im_size: 50]</th>\n",
       "      <th>segFridgeObjects</th>\n",
       "      <td>15.543634</td>\n",
       "      <td>0.718600</td>\n",
       "    </tr>\n",
       "    <tr>\n",
       "      <th>P: [learning_rate: 1e-05] [epochs: 5] [im_size: 100]</th>\n",
       "      <th>segFridgeObjects</th>\n",
       "      <td>22.575260</td>\n",
       "      <td>0.678021</td>\n",
       "    </tr>\n",
       "    <tr>\n",
       "      <th rowspan=\"12\" valign=\"top\">2</th>\n",
       "      <th>P: [learning_rate: 0.001] [epochs: 2] [im_size: 50]</th>\n",
       "      <th>segFridgeObjects</th>\n",
       "      <td>6.887870</td>\n",
       "      <td>0.800133</td>\n",
       "    </tr>\n",
       "    <tr>\n",
       "      <th>P: [learning_rate: 0.001] [epochs: 2] [im_size: 100]</th>\n",
       "      <th>segFridgeObjects</th>\n",
       "      <td>9.745823</td>\n",
       "      <td>0.749898</td>\n",
       "    </tr>\n",
       "    <tr>\n",
       "      <th>P: [learning_rate: 0.001] [epochs: 5] [im_size: 50]</th>\n",
       "      <th>segFridgeObjects</th>\n",
       "      <td>15.492912</td>\n",
       "      <td>0.878714</td>\n",
       "    </tr>\n",
       "    <tr>\n",
       "      <th>P: [learning_rate: 0.001] [epochs: 5] [im_size: 100]</th>\n",
       "      <th>segFridgeObjects</th>\n",
       "      <td>22.516315</td>\n",
       "      <td>0.893729</td>\n",
       "    </tr>\n",
       "    <tr>\n",
       "      <th>P: [learning_rate: 0.0001] [epochs: 2] [im_size: 50]</th>\n",
       "      <th>segFridgeObjects</th>\n",
       "      <td>6.909174</td>\n",
       "      <td>0.705686</td>\n",
       "    </tr>\n",
       "    <tr>\n",
       "      <th>P: [learning_rate: 0.0001] [epochs: 2] [im_size: 100]</th>\n",
       "      <th>segFridgeObjects</th>\n",
       "      <td>9.824869</td>\n",
       "      <td>0.748552</td>\n",
       "    </tr>\n",
       "    <tr>\n",
       "      <th>P: [learning_rate: 0.0001] [epochs: 5] [im_size: 50]</th>\n",
       "      <th>segFridgeObjects</th>\n",
       "      <td>15.418286</td>\n",
       "      <td>0.804457</td>\n",
       "    </tr>\n",
       "    <tr>\n",
       "      <th>P: [learning_rate: 0.0001] [epochs: 5] [im_size: 100]</th>\n",
       "      <th>segFridgeObjects</th>\n",
       "      <td>22.506616</td>\n",
       "      <td>0.855628</td>\n",
       "    </tr>\n",
       "    <tr>\n",
       "      <th>P: [learning_rate: 1e-05] [epochs: 2] [im_size: 50]</th>\n",
       "      <th>segFridgeObjects</th>\n",
       "      <td>6.880254</td>\n",
       "      <td>0.306324</td>\n",
       "    </tr>\n",
       "    <tr>\n",
       "      <th>P: [learning_rate: 1e-05] [epochs: 2] [im_size: 100]</th>\n",
       "      <th>segFridgeObjects</th>\n",
       "      <td>9.756700</td>\n",
       "      <td>0.454471</td>\n",
       "    </tr>\n",
       "    <tr>\n",
       "      <th>P: [learning_rate: 1e-05] [epochs: 5] [im_size: 50]</th>\n",
       "      <th>segFridgeObjects</th>\n",
       "      <td>15.497649</td>\n",
       "      <td>0.321914</td>\n",
       "    </tr>\n",
       "    <tr>\n",
       "      <th>P: [learning_rate: 1e-05] [epochs: 5] [im_size: 100]</th>\n",
       "      <th>segFridgeObjects</th>\n",
       "      <td>22.555554</td>\n",
       "      <td>0.760231</td>\n",
       "    </tr>\n",
       "  </tbody>\n",
       "</table>\n",
       "</div>"
      ],
      "text/plain": [
       "                                                                        duration  \\\n",
       "0 P: [learning_rate: 0.001] [epochs: 2] [im_size:... segFridgeObjects  14.420340   \n",
       "  P: [learning_rate: 0.001] [epochs: 2] [im_size:... segFridgeObjects  16.193594   \n",
       "  P: [learning_rate: 0.001] [epochs: 5] [im_size:... segFridgeObjects  15.623636   \n",
       "  P: [learning_rate: 0.001] [epochs: 5] [im_size:... segFridgeObjects  22.343675   \n",
       "  P: [learning_rate: 0.0001] [epochs: 2] [im_size... segFridgeObjects   6.899916   \n",
       "  P: [learning_rate: 0.0001] [epochs: 2] [im_size... segFridgeObjects   9.796095   \n",
       "  P: [learning_rate: 0.0001] [epochs: 5] [im_size... segFridgeObjects  15.502939   \n",
       "  P: [learning_rate: 0.0001] [epochs: 5] [im_size... segFridgeObjects  22.566672   \n",
       "  P: [learning_rate: 1e-05] [epochs: 2] [im_size:... segFridgeObjects   6.870908   \n",
       "  P: [learning_rate: 1e-05] [epochs: 2] [im_size:... segFridgeObjects   9.799436   \n",
       "  P: [learning_rate: 1e-05] [epochs: 5] [im_size:... segFridgeObjects  15.424780   \n",
       "  P: [learning_rate: 1e-05] [epochs: 5] [im_size:... segFridgeObjects  22.426835   \n",
       "1 P: [learning_rate: 0.001] [epochs: 2] [im_size:... segFridgeObjects   6.887019   \n",
       "  P: [learning_rate: 0.001] [epochs: 2] [im_size:... segFridgeObjects   9.731006   \n",
       "  P: [learning_rate: 0.001] [epochs: 5] [im_size:... segFridgeObjects  15.412147   \n",
       "  P: [learning_rate: 0.001] [epochs: 5] [im_size:... segFridgeObjects  22.588943   \n",
       "  P: [learning_rate: 0.0001] [epochs: 2] [im_size... segFridgeObjects   6.957915   \n",
       "  P: [learning_rate: 0.0001] [epochs: 2] [im_size... segFridgeObjects   9.775615   \n",
       "  P: [learning_rate: 0.0001] [epochs: 5] [im_size... segFridgeObjects  15.372692   \n",
       "  P: [learning_rate: 0.0001] [epochs: 5] [im_size... segFridgeObjects  22.460565   \n",
       "  P: [learning_rate: 1e-05] [epochs: 2] [im_size:... segFridgeObjects   6.891902   \n",
       "  P: [learning_rate: 1e-05] [epochs: 2] [im_size:... segFridgeObjects   9.807517   \n",
       "  P: [learning_rate: 1e-05] [epochs: 5] [im_size:... segFridgeObjects  15.543634   \n",
       "  P: [learning_rate: 1e-05] [epochs: 5] [im_size:... segFridgeObjects  22.575260   \n",
       "2 P: [learning_rate: 0.001] [epochs: 2] [im_size:... segFridgeObjects   6.887870   \n",
       "  P: [learning_rate: 0.001] [epochs: 2] [im_size:... segFridgeObjects   9.745823   \n",
       "  P: [learning_rate: 0.001] [epochs: 5] [im_size:... segFridgeObjects  15.492912   \n",
       "  P: [learning_rate: 0.001] [epochs: 5] [im_size:... segFridgeObjects  22.516315   \n",
       "  P: [learning_rate: 0.0001] [epochs: 2] [im_size... segFridgeObjects   6.909174   \n",
       "  P: [learning_rate: 0.0001] [epochs: 2] [im_size... segFridgeObjects   9.824869   \n",
       "  P: [learning_rate: 0.0001] [epochs: 5] [im_size... segFridgeObjects  15.418286   \n",
       "  P: [learning_rate: 0.0001] [epochs: 5] [im_size... segFridgeObjects  22.506616   \n",
       "  P: [learning_rate: 1e-05] [epochs: 2] [im_size:... segFridgeObjects   6.880254   \n",
       "  P: [learning_rate: 1e-05] [epochs: 2] [im_size:... segFridgeObjects   9.756700   \n",
       "  P: [learning_rate: 1e-05] [epochs: 5] [im_size:... segFridgeObjects  15.497649   \n",
       "  P: [learning_rate: 1e-05] [epochs: 5] [im_size:... segFridgeObjects  22.555554   \n",
       "\n",
       "                                                                       ratio_correct  \n",
       "0 P: [learning_rate: 0.001] [epochs: 2] [im_size:... segFridgeObjects       0.755381  \n",
       "  P: [learning_rate: 0.001] [epochs: 2] [im_size:... segFridgeObjects       0.762260  \n",
       "  P: [learning_rate: 0.001] [epochs: 5] [im_size:... segFridgeObjects       0.872600  \n",
       "  P: [learning_rate: 0.001] [epochs: 5] [im_size:... segFridgeObjects       0.887317  \n",
       "  P: [learning_rate: 0.0001] [epochs: 2] [im_size... segFridgeObjects       0.751771  \n",
       "  P: [learning_rate: 0.0001] [epochs: 2] [im_size... segFridgeObjects       0.710405  \n",
       "  P: [learning_rate: 0.0001] [epochs: 5] [im_size... segFridgeObjects       0.795143  \n",
       "  P: [learning_rate: 0.0001] [epochs: 5] [im_size... segFridgeObjects       0.857043  \n",
       "  P: [learning_rate: 1e-05] [epochs: 2] [im_size:... segFridgeObjects       0.617076  \n",
       "  P: [learning_rate: 1e-05] [epochs: 2] [im_size:... segFridgeObjects       0.702471  \n",
       "  P: [learning_rate: 1e-05] [epochs: 5] [im_size:... segFridgeObjects       0.068190  \n",
       "  P: [learning_rate: 1e-05] [epochs: 5] [im_size:... segFridgeObjects       0.666171  \n",
       "1 P: [learning_rate: 0.001] [epochs: 2] [im_size:... segFridgeObjects       0.765638  \n",
       "  P: [learning_rate: 0.001] [epochs: 2] [im_size:... segFridgeObjects       0.764333  \n",
       "  P: [learning_rate: 0.001] [epochs: 5] [im_size:... segFridgeObjects       0.872752  \n",
       "  P: [learning_rate: 0.001] [epochs: 5] [im_size:... segFridgeObjects       0.871452  \n",
       "  P: [learning_rate: 0.0001] [epochs: 2] [im_size... segFridgeObjects       0.796476  \n",
       "  P: [learning_rate: 0.0001] [epochs: 2] [im_size... segFridgeObjects       0.758117  \n",
       "  P: [learning_rate: 0.0001] [epochs: 5] [im_size... segFridgeObjects       0.803791  \n",
       "  P: [learning_rate: 0.0001] [epochs: 5] [im_size... segFridgeObjects       0.828309  \n",
       "  P: [learning_rate: 1e-05] [epochs: 2] [im_size:... segFridgeObjects       0.130438  \n",
       "  P: [learning_rate: 1e-05] [epochs: 2] [im_size:... segFridgeObjects       0.062869  \n",
       "  P: [learning_rate: 1e-05] [epochs: 5] [im_size:... segFridgeObjects       0.718600  \n",
       "  P: [learning_rate: 1e-05] [epochs: 5] [im_size:... segFridgeObjects       0.678021  \n",
       "2 P: [learning_rate: 0.001] [epochs: 2] [im_size:... segFridgeObjects       0.800133  \n",
       "  P: [learning_rate: 0.001] [epochs: 2] [im_size:... segFridgeObjects       0.749898  \n",
       "  P: [learning_rate: 0.001] [epochs: 5] [im_size:... segFridgeObjects       0.878714  \n",
       "  P: [learning_rate: 0.001] [epochs: 5] [im_size:... segFridgeObjects       0.893729  \n",
       "  P: [learning_rate: 0.0001] [epochs: 2] [im_size... segFridgeObjects       0.705686  \n",
       "  P: [learning_rate: 0.0001] [epochs: 2] [im_size... segFridgeObjects       0.748552  \n",
       "  P: [learning_rate: 0.0001] [epochs: 5] [im_size... segFridgeObjects       0.804457  \n",
       "  P: [learning_rate: 0.0001] [epochs: 5] [im_size... segFridgeObjects       0.855628  \n",
       "  P: [learning_rate: 1e-05] [epochs: 2] [im_size:... segFridgeObjects       0.306324  \n",
       "  P: [learning_rate: 1e-05] [epochs: 2] [im_size:... segFridgeObjects       0.454471  \n",
       "  P: [learning_rate: 1e-05] [epochs: 5] [im_size:... segFridgeObjects       0.321914  \n",
       "  P: [learning_rate: 1e-05] [epochs: 5] [im_size:... segFridgeObjects       0.760231  "
      ]
     },
     "execution_count": 12,
     "metadata": {},
     "output_type": "execute_result"
    }
   ],
   "source": [
    "df"
   ]
  },
  {
   "cell_type": "markdown",
   "metadata": {},
   "source": [
    "### Visualize Results <a name=\"visualize\"></a>"
   ]
  },
  {
   "cell_type": "markdown",
   "metadata": {},
   "source": [
    "When we read in multi-index dataframe, index 0 represents the run number, index 1 represents a single permutation of parameters, and index 2 represents the dataset. To see the results, show the df using the `clean_sweeper_df` helper function. This will display all the hyperparameters in a nice, readable way."
   ]
  },
  {
   "cell_type": "code",
   "execution_count": 6,
   "metadata": {},
   "outputs": [],
   "source": [
    "df = clean_sweeper_df(df)"
   ]
  },
  {
   "cell_type": "markdown",
   "metadata": {},
   "source": [
    "Since we've run our benchmarking over 3 repetitions, we may want to just look at the averages across the different __run numbers__."
   ]
  },
  {
   "cell_type": "code",
   "execution_count": 7,
   "metadata": {},
   "outputs": [
    {
     "data": {
      "text/html": [
       "<div>\n",
       "<style scoped>\n",
       "    .dataframe tbody tr th:only-of-type {\n",
       "        vertical-align: middle;\n",
       "    }\n",
       "\n",
       "    .dataframe tbody tr th {\n",
       "        vertical-align: top;\n",
       "    }\n",
       "\n",
       "    .dataframe thead tr th {\n",
       "        text-align: left;\n",
       "    }\n",
       "</style>\n",
       "<table border=\"1\" class=\"dataframe\">\n",
       "  <thead>\n",
       "    <tr>\n",
       "      <th></th>\n",
       "      <th>P: [learning_rate: 0.001] [epochs: 2] [im_size: 50]</th>\n",
       "      <th>P: [learning_rate: 0.001] [epochs: 2] [im_size: 100]</th>\n",
       "      <th>P: [learning_rate: 0.001] [epochs: 5] [im_size: 50]</th>\n",
       "      <th>P: [learning_rate: 0.001] [epochs: 5] [im_size: 100]</th>\n",
       "      <th>P: [learning_rate: 0.0001] [epochs: 2] [im_size: 50]</th>\n",
       "      <th>P: [learning_rate: 0.0001] [epochs: 2] [im_size: 100]</th>\n",
       "      <th>P: [learning_rate: 0.0001] [epochs: 5] [im_size: 50]</th>\n",
       "      <th>P: [learning_rate: 0.0001] [epochs: 5] [im_size: 100]</th>\n",
       "      <th>P: [learning_rate: 1e-05] [epochs: 2] [im_size: 50]</th>\n",
       "      <th>P: [learning_rate: 1e-05] [epochs: 2] [im_size: 100]</th>\n",
       "      <th>P: [learning_rate: 1e-05] [epochs: 5] [im_size: 50]</th>\n",
       "      <th>P: [learning_rate: 1e-05] [epochs: 5] [im_size: 100]</th>\n",
       "    </tr>\n",
       "    <tr>\n",
       "      <th></th>\n",
       "      <th>segFridgeObjects</th>\n",
       "      <th>segFridgeObjects</th>\n",
       "      <th>segFridgeObjects</th>\n",
       "      <th>segFridgeObjects</th>\n",
       "      <th>segFridgeObjects</th>\n",
       "      <th>segFridgeObjects</th>\n",
       "      <th>segFridgeObjects</th>\n",
       "      <th>segFridgeObjects</th>\n",
       "      <th>segFridgeObjects</th>\n",
       "      <th>segFridgeObjects</th>\n",
       "      <th>segFridgeObjects</th>\n",
       "      <th>segFridgeObjects</th>\n",
       "    </tr>\n",
       "  </thead>\n",
       "  <tbody>\n",
       "    <tr>\n",
       "      <th>duration</th>\n",
       "      <td>9.398410</td>\n",
       "      <td>11.890141</td>\n",
       "      <td>15.509565</td>\n",
       "      <td>22.482978</td>\n",
       "      <td>6.922335</td>\n",
       "      <td>9.798860</td>\n",
       "      <td>15.431306</td>\n",
       "      <td>22.511284</td>\n",
       "      <td>6.881021</td>\n",
       "      <td>9.787884</td>\n",
       "      <td>15.488688</td>\n",
       "      <td>22.519216</td>\n",
       "    </tr>\n",
       "    <tr>\n",
       "      <th>ratio_correct</th>\n",
       "      <td>0.773717</td>\n",
       "      <td>0.758830</td>\n",
       "      <td>0.874689</td>\n",
       "      <td>0.884166</td>\n",
       "      <td>0.751311</td>\n",
       "      <td>0.739025</td>\n",
       "      <td>0.801130</td>\n",
       "      <td>0.846993</td>\n",
       "      <td>0.351279</td>\n",
       "      <td>0.406604</td>\n",
       "      <td>0.369568</td>\n",
       "      <td>0.701474</td>\n",
       "    </tr>\n",
       "  </tbody>\n",
       "</table>\n",
       "</div>"
      ],
      "text/plain": [
       "              P: [learning_rate: 0.001] [epochs: 2] [im_size: 50]  \\\n",
       "                                                 segFridgeObjects   \n",
       "duration                                                9.398410    \n",
       "ratio_correct                                           0.773717    \n",
       "\n",
       "              P: [learning_rate: 0.001] [epochs: 2] [im_size: 100]  \\\n",
       "                                                  segFridgeObjects   \n",
       "duration                                               11.890141     \n",
       "ratio_correct                                           0.758830     \n",
       "\n",
       "              P: [learning_rate: 0.001] [epochs: 5] [im_size: 50]  \\\n",
       "                                                 segFridgeObjects   \n",
       "duration                                               15.509565    \n",
       "ratio_correct                                           0.874689    \n",
       "\n",
       "              P: [learning_rate: 0.001] [epochs: 5] [im_size: 100]  \\\n",
       "                                                  segFridgeObjects   \n",
       "duration                                               22.482978     \n",
       "ratio_correct                                           0.884166     \n",
       "\n",
       "              P: [learning_rate: 0.0001] [epochs: 2] [im_size: 50]  \\\n",
       "                                                  segFridgeObjects   \n",
       "duration                                                6.922335     \n",
       "ratio_correct                                           0.751311     \n",
       "\n",
       "              P: [learning_rate: 0.0001] [epochs: 2] [im_size: 100]  \\\n",
       "                                                   segFridgeObjects   \n",
       "duration                                                9.798860      \n",
       "ratio_correct                                           0.739025      \n",
       "\n",
       "              P: [learning_rate: 0.0001] [epochs: 5] [im_size: 50]  \\\n",
       "                                                  segFridgeObjects   \n",
       "duration                                               15.431306     \n",
       "ratio_correct                                           0.801130     \n",
       "\n",
       "              P: [learning_rate: 0.0001] [epochs: 5] [im_size: 100]  \\\n",
       "                                                   segFridgeObjects   \n",
       "duration                                               22.511284      \n",
       "ratio_correct                                           0.846993      \n",
       "\n",
       "              P: [learning_rate: 1e-05] [epochs: 2] [im_size: 50]  \\\n",
       "                                                 segFridgeObjects   \n",
       "duration                                                6.881021    \n",
       "ratio_correct                                           0.351279    \n",
       "\n",
       "              P: [learning_rate: 1e-05] [epochs: 2] [im_size: 100]  \\\n",
       "                                                  segFridgeObjects   \n",
       "duration                                                9.787884     \n",
       "ratio_correct                                           0.406604     \n",
       "\n",
       "              P: [learning_rate: 1e-05] [epochs: 5] [im_size: 50]  \\\n",
       "                                                 segFridgeObjects   \n",
       "duration                                               15.488688    \n",
       "ratio_correct                                           0.369568    \n",
       "\n",
       "              P: [learning_rate: 1e-05] [epochs: 5] [im_size: 100]  \n",
       "                                                  segFridgeObjects  \n",
       "duration                                               22.519216    \n",
       "ratio_correct                                           0.701474    "
      ]
     },
     "execution_count": 7,
     "metadata": {},
     "output_type": "execute_result"
    }
   ],
   "source": [
    "df.mean(level=(1,2)).T"
   ]
  },
  {
   "cell_type": "markdown",
   "metadata": {},
   "source": [
    "Print the average accuracy over the different runs for each dataset independently."
   ]
  },
  {
   "cell_type": "code",
   "execution_count": 8,
   "metadata": {},
   "outputs": [
    {
     "data": {
      "image/png": "[encoded data removed]",
      "text/plain": [
       "<Figure size 864x432 with 1 Axes>"
      ]
     },
     "metadata": {
      "needs_background": "light"
     },
     "output_type": "display_data"
    }
   ],
   "source": [
    "ax = df.mean(level=(1,2))[\"ratio_correct\"].unstack().plot(kind='bar', figsize=(12, 6))"
   ]
  },
  {
   "cell_type": "markdown",
   "metadata": {},
   "source": [
    "Additionally, we may want simply to see which set of hyperparameters perform the best across the different __datasets__. We can do that by averaging the results of the different datasets."
   ]
  },
  {
   "cell_type": "code",
   "execution_count": 9,
   "metadata": {
    "scrolled": true
   },
   "outputs": [
    {
     "data": {
      "text/html": [
       "<div>\n",
       "<style scoped>\n",
       "    .dataframe tbody tr th:only-of-type {\n",
       "        vertical-align: middle;\n",
       "    }\n",
       "\n",
       "    .dataframe tbody tr th {\n",
       "        vertical-align: top;\n",
       "    }\n",
       "\n",
       "    .dataframe thead th {\n",
       "        text-align: right;\n",
       "    }\n",
       "</style>\n",
       "<table border=\"1\" class=\"dataframe\">\n",
       "  <thead>\n",
       "    <tr style=\"text-align: right;\">\n",
       "      <th></th>\n",
       "      <th>P: [learning_rate: 0.001] [epochs: 2] [im_size: 50]</th>\n",
       "      <th>P: [learning_rate: 0.001] [epochs: 2] [im_size: 100]</th>\n",
       "      <th>P: [learning_rate: 0.001] [epochs: 5] [im_size: 50]</th>\n",
       "      <th>P: [learning_rate: 0.001] [epochs: 5] [im_size: 100]</th>\n",
       "      <th>P: [learning_rate: 0.0001] [epochs: 2] [im_size: 50]</th>\n",
       "      <th>P: [learning_rate: 0.0001] [epochs: 2] [im_size: 100]</th>\n",
       "      <th>P: [learning_rate: 0.0001] [epochs: 5] [im_size: 50]</th>\n",
       "      <th>P: [learning_rate: 0.0001] [epochs: 5] [im_size: 100]</th>\n",
       "      <th>P: [learning_rate: 1e-05] [epochs: 2] [im_size: 50]</th>\n",
       "      <th>P: [learning_rate: 1e-05] [epochs: 2] [im_size: 100]</th>\n",
       "      <th>P: [learning_rate: 1e-05] [epochs: 5] [im_size: 50]</th>\n",
       "      <th>P: [learning_rate: 1e-05] [epochs: 5] [im_size: 100]</th>\n",
       "    </tr>\n",
       "  </thead>\n",
       "  <tbody>\n",
       "    <tr>\n",
       "      <th>duration</th>\n",
       "      <td>9.398410</td>\n",
       "      <td>11.890141</td>\n",
       "      <td>15.509565</td>\n",
       "      <td>22.482978</td>\n",
       "      <td>6.922335</td>\n",
       "      <td>9.798860</td>\n",
       "      <td>15.431306</td>\n",
       "      <td>22.511284</td>\n",
       "      <td>6.881021</td>\n",
       "      <td>9.787884</td>\n",
       "      <td>15.488688</td>\n",
       "      <td>22.519216</td>\n",
       "    </tr>\n",
       "    <tr>\n",
       "      <th>ratio_correct</th>\n",
       "      <td>0.773717</td>\n",
       "      <td>0.758830</td>\n",
       "      <td>0.874689</td>\n",
       "      <td>0.884166</td>\n",
       "      <td>0.751311</td>\n",
       "      <td>0.739025</td>\n",
       "      <td>0.801130</td>\n",
       "      <td>0.846993</td>\n",
       "      <td>0.351279</td>\n",
       "      <td>0.406604</td>\n",
       "      <td>0.369568</td>\n",
       "      <td>0.701474</td>\n",
       "    </tr>\n",
       "  </tbody>\n",
       "</table>\n",
       "</div>"
      ],
      "text/plain": [
       "               P: [learning_rate: 0.001] [epochs: 2] [im_size: 50]  \\\n",
       "duration                                                9.398410     \n",
       "ratio_correct                                           0.773717     \n",
       "\n",
       "               P: [learning_rate: 0.001] [epochs: 2] [im_size: 100]  \\\n",
       "duration                                               11.890141      \n",
       "ratio_correct                                           0.758830      \n",
       "\n",
       "               P: [learning_rate: 0.001] [epochs: 5] [im_size: 50]  \\\n",
       "duration                                               15.509565     \n",
       "ratio_correct                                           0.874689     \n",
       "\n",
       "               P: [learning_rate: 0.001] [epochs: 5] [im_size: 100]  \\\n",
       "duration                                               22.482978      \n",
       "ratio_correct                                           0.884166      \n",
       "\n",
       "               P: [learning_rate: 0.0001] [epochs: 2] [im_size: 50]  \\\n",
       "duration                                                6.922335      \n",
       "ratio_correct                                           0.751311      \n",
       "\n",
       "               P: [learning_rate: 0.0001] [epochs: 2] [im_size: 100]  \\\n",
       "duration                                                9.798860       \n",
       "ratio_correct                                           0.739025       \n",
       "\n",
       "               P: [learning_rate: 0.0001] [epochs: 5] [im_size: 50]  \\\n",
       "duration                                               15.431306      \n",
       "ratio_correct                                           0.801130      \n",
       "\n",
       "               P: [learning_rate: 0.0001] [epochs: 5] [im_size: 100]  \\\n",
       "duration                                               22.511284       \n",
       "ratio_correct                                           0.846993       \n",
       "\n",
       "               P: [learning_rate: 1e-05] [epochs: 2] [im_size: 50]  \\\n",
       "duration                                                6.881021     \n",
       "ratio_correct                                           0.351279     \n",
       "\n",
       "               P: [learning_rate: 1e-05] [epochs: 2] [im_size: 100]  \\\n",
       "duration                                                9.787884      \n",
       "ratio_correct                                           0.406604      \n",
       "\n",
       "               P: [learning_rate: 1e-05] [epochs: 5] [im_size: 50]  \\\n",
       "duration                                               15.488688     \n",
       "ratio_correct                                           0.369568     \n",
       "\n",
       "               P: [learning_rate: 1e-05] [epochs: 5] [im_size: 100]  \n",
       "duration                                               22.519216     \n",
       "ratio_correct                                           0.701474     "
      ]
     },
     "execution_count": 9,
     "metadata": {},
     "output_type": "execute_result"
    }
   ],
   "source": [
    "df.mean(level=(1)).T"
   ]
  },
  {
   "cell_type": "markdown",
   "metadata": {},
   "source": [
    "To make it easier to see which permutation did the best, we can plot the results using the `plot_sweeper_df` helper function. This plot will help us easily see which parameters offer the highest accuracies."
   ]
  },
  {
   "cell_type": "code",
   "execution_count": 10,
   "metadata": {},
   "outputs": [
    {
     "data": {
      "image/png": "[encoded data removed]",
      "text/plain": [
       "<Figure size 864x576 with 2 Axes>"
      ]
     },
     "metadata": {
      "needs_background": "light"
     },
     "output_type": "display_data"
    }
   ],
   "source": [
    "plot_sweeper_df(df.mean(level=(1)), sort_by=\"ratio_correct\")"
   ]
  },
  {
   "cell_type": "code",
   "execution_count": 11,
   "metadata": {},
   "outputs": [
    {
     "data": {
      "application/scrapbook.scrap.json+json": {
       "data": 36,
       "encoder": "json",
       "name": "nr_elements",
       "version": 1
      }
     },
     "metadata": {
      "scrapbook": {
       "data": true,
       "display": false,
       "name": "nr_elements"
      }
     },
     "output_type": "display_data"
    },
    {
     "data": {
      "application/scrapbook.scrap.json+json": {
       "data": [
        0.7737173333333334,
        0.7588303333333334,
        0.8746886666666667,
        0.884166,
        0.751311,
        0.7390246666666668,
        0.8011303333333334,
        0.8469933333333334,
        0.35127933333333333,
        0.40660366666666664,
        0.36956799999999995,
        0.7014743333333334
       ],
       "encoder": "json",
       "name": "ranks",
       "version": 1
      }
     },
     "metadata": {
      "scrapbook": {
       "data": true,
       "display": false,
       "name": "ranks"
      }
     },
     "output_type": "display_data"
    },
    {
     "data": {
      "application/scrapbook.scrap.json+json": {
       "data": 22.588943,
       "encoder": "json",
       "name": "max_duration",
       "version": 1
      }
     },
     "metadata": {
      "scrapbook": {
       "data": true,
       "display": false,
       "name": "max_duration"
      }
     },
     "output_type": "display_data"
    },
    {
     "data": {
      "application/scrapbook.scrap.json+json": {
       "data": 6.870908,
       "encoder": "json",
       "name": "min_duration",
       "version": 1
      }
     },
     "metadata": {
      "scrapbook": {
       "data": true,
       "display": false,
       "name": "min_duration"
      }
     },
     "output_type": "display_data"
    }
   ],
   "source": [
    "# Preserve some of the notebook outputs\n",
    "sb.glue(\"nr_elements\", len(df))\n",
    "sb.glue(\"ratio_correct\", list(df.mean(level=(1))[\"ratio_correct\"]))\n",
    "sb.glue(\"max_duration\", df.max().duration)\n",
    "sb.glue(\"min_duration\", df.min().duration)"
   ]
  }
 ],
 "metadata": {
  "kernelspec": {
   "display_name": "Python (cv)",
   "language": "python",
   "name": "cv"
  },
  "language_info": {
   "codemirror_mode": {
    "name": "ipython",
    "version": 3
   },
   "file_extension": ".py",
   "mimetype": "text/x-python",
   "name": "python",
   "nbconvert_exporter": "python",
   "pygments_lexer": "ipython3",
   "version": "3.7.6"
  }
 },
 "nbformat": 4,
 "nbformat_minor": 2
}
